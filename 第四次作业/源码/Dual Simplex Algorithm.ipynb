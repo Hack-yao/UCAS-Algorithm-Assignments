{
 "cells": [
  {
   "cell_type": "code",
   "execution_count": 101,
   "metadata": {
    "collapsed": true
   },
   "outputs": [],
   "source": [
    "import numpy as np\n",
    "import sys"
   ]
  },
  {
   "cell_type": "code",
   "execution_count": 105,
   "metadata": {},
   "outputs": [
    {
     "name": "stdout",
     "output_type": "stream",
     "text": [
      "X:\n",
      "[  0.    0.    0.    1.5   2.5  16.5]\n",
      "z: -16.500000\n"
     ]
    }
   ],
   "source": [
    "X = np.zeros(c.shape[0])\n",
    "c = np.array([-7.0, 7, -2, -1, -6, 0])\n",
    "c_raw = c.copy()\n",
    "X_B = np.array([2, 4, 5]) # index of x\n",
    "alpha = np.array([[3.0, -1, 1, -2, 0, 0], [2, 1, 0, 1, 1, 0], [-1, 3, 0, -3, 0, 1]])\n",
    "b = np.array([-3.0, 4, 12])\n",
    "minus_z = 0\n",
    "\n",
    "while b[np.where(b < 0)].size > 0:    \n",
    "    i = np.argmin(b)\n",
    "    min_val = sys.maxsize\n",
    "    k = 0\n",
    "    for j in range(c.shape[0]):\n",
    "        if c[j] != 0 and alpha[i, j] < 0:\n",
    "            if min_val > (c[j] / -alpha[i, j]):\n",
    "                min_val = c[j] / -alpha[i, j]\n",
    "                k = j\n",
    "    coe = -c[k] / alpha[i, k]\n",
    "    minus_z += coe * b[i]\n",
    "    c[:] += coe * alpha[i, :]\n",
    "    if i == 0:\n",
    "        coe = -alpha[i + 1, k] / alpha[i, k]\n",
    "        alpha[i + 1, :] += coe * alpha[i, :]\n",
    "        b[i + 1] += coe * b[i]\n",
    "        coe = -alpha[i + 2, k] / alpha[i, k]\n",
    "        alpha[i + 2, :] += coe * alpha[i, :]\n",
    "        b[i + 2] += coe * b[i]\n",
    "    if i == 1:\n",
    "        coe = -alpha[i - 1, k] / alpha[i, k]\n",
    "        alpha[i - 1, :] += coe * alpha[i, :]\n",
    "        b[i - 1] += coe * b[i]\n",
    "        coe = -alpha[i + 1, k] / alpha[i, k]\n",
    "        alpha[i + 1, :] += coe * alpha[i, :]\n",
    "        b[i + 1] += coe * b[i]\n",
    "    if i == 2:\n",
    "        coe = -alpha[i - 1, k] / alpha[i, k]\n",
    "        alpha[i - 1, :] += coe * alpha[i, :]\n",
    "        b[i - 1] += coe * b[i]\n",
    "        coe = -alpha[i - 2, k] / alpha[i, k]\n",
    "        alpha[i - 2, :] += coe * alpha[i, :]\n",
    "        b[i - 2] += coe * b[i]\n",
    "    coe = 1 / alpha[i, k]\n",
    "    alpha[i, :] = coe * alpha[i, :]\n",
    "    b[i] *= coe\n",
    "    X_B[i] = k\n",
    "#     print(c)\n",
    "#     print(alpha)\n",
    "#     print(b)\n",
    "#     print(X_B)\n",
    "    \n",
    "for i in range(X_B.shape[0]):\n",
    "    X[X_B[i]] = b[i]\n",
    "print(\"X:\")\n",
    "print(X)\n",
    "z = np.sum(c_raw * X)\n",
    "print(\"z: %f\" %(z))"
   ]
  },
  {
   "cell_type": "code",
   "execution_count": null,
   "metadata": {
    "collapsed": true
   },
   "outputs": [],
   "source": []
  },
  {
   "cell_type": "code",
   "execution_count": null,
   "metadata": {
    "collapsed": true
   },
   "outputs": [],
   "source": []
  },
  {
   "cell_type": "code",
   "execution_count": null,
   "metadata": {
    "collapsed": true
   },
   "outputs": [],
   "source": []
  },
  {
   "cell_type": "code",
   "execution_count": null,
   "metadata": {
    "collapsed": true
   },
   "outputs": [],
   "source": []
  },
  {
   "cell_type": "code",
   "execution_count": null,
   "metadata": {
    "collapsed": true
   },
   "outputs": [],
   "source": []
  },
  {
   "cell_type": "code",
   "execution_count": null,
   "metadata": {
    "collapsed": true
   },
   "outputs": [],
   "source": []
  },
  {
   "cell_type": "code",
   "execution_count": null,
   "metadata": {
    "collapsed": true
   },
   "outputs": [],
   "source": []
  },
  {
   "cell_type": "code",
   "execution_count": null,
   "metadata": {
    "collapsed": true
   },
   "outputs": [],
   "source": []
  },
  {
   "cell_type": "code",
   "execution_count": null,
   "metadata": {
    "collapsed": true
   },
   "outputs": [],
   "source": []
  }
 ],
 "metadata": {
  "kernelspec": {
   "display_name": "Python 3",
   "language": "python",
   "name": "python3"
  },
  "language_info": {
   "codemirror_mode": {
    "name": "ipython",
    "version": 3
   },
   "file_extension": ".py",
   "mimetype": "text/x-python",
   "name": "python",
   "nbconvert_exporter": "python",
   "pygments_lexer": "ipython3",
   "version": "3.6.1"
  }
 },
 "nbformat": 4,
 "nbformat_minor": 2
}
